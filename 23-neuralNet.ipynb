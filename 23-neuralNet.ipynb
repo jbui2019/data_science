{
 "cells": [
  {
   "cell_type": "markdown",
   "metadata": {
    "collapsed": true,
    "slideshow": {
     "slide_type": "slide"
    }
   },
   "source": [
    "##### CSCI 303\n",
    "# Introduction to Data Science\n",
    "<p/>\n",
    "### Neural Networks\n",
    "\n",
    "![ann](296px-Colored_neural_network.png)\n"
   ]
  },
  {
   "cell_type": "markdown",
   "metadata": {
    "slideshow": {
     "slide_type": "slide"
    }
   },
   "source": [
    "## This Lecture\n",
    "---\n",
    "\n",
    "- Overview\n",
    "- History\n",
    "- Example Applications\n",
    "- 3Blue1Brown Videos\n",
    "- Types"
   ]
  },
  {
   "cell_type": "markdown",
   "metadata": {
    "slideshow": {
     "slide_type": "slide"
    }
   },
   "source": [
    "## What is a Neural Network\n",
    "---\n",
    "A computational nonlinear model based on the neural structure of the brain that is able to learn to perform tasks like classification, prediction, decision-making, visualization, and others just by considering examples.\n",
    "\n",
    "An artificial neural network (ANN) consists of artificial neurons or processing elements and is organized in three interconnected layers: input, hidden that may include more than one layer, and output.\n",
    "\n",
    "- Fundamental Idea ... \"if it works in nature, it must be able to work in computers\" \n",
    "- Modeled after how biological neurons work ... Thus far, artificial neural networks haven't even come close to modeling the complexity of the brain, but they have shown to be good at problems which are easy for a human but difficult for a traditional computer, such as image recognition and predictions based on past knowledge.\n",
    "- An artificial neuron (perceptron) - mathematical model of a biological neuron\n",
    "- Can be Supervised or Unsupervised"
   ]
  },
  {
   "cell_type": "markdown",
   "metadata": {
    "slideshow": {
     "slide_type": "slide"
    }
   },
   "source": [
    "## Deep Neural Network\n",
    "---\n",
    "\n",
    "Broadly defined ... \n",
    "- A deep neural network (DNN) is an ANN with multiple hidden layers between the input and output layers\n",
    "- Deep learning architectures such as deep neural networks, deep belief networks and recurrent neural networks have been applied to fields including computer vision, speech recognition, natural language processing, audio recognition, social network filtering, machine translation, bioinformatics and drug design, where they have produced results comparable to and in some cases superior to human experts.\"\n",
    "\n",
    "** Thanks to: https://en.wikipedia.org/wiki/Deep_learning"
   ]
  },
  {
   "cell_type": "markdown",
   "metadata": {
    "slideshow": {
     "slide_type": "notes"
    }
   },
   "source": [
    "## History\n",
    "---\n",
    "\n",
    "Neural networks have had a unique history in the realm of technology. Unlike many technologies today which either immediately fail or are immediately popular, neural networks for popular for a short time, took a two-decade hiatus, and have been popular every since.\n",
    "\n",
    "- The 1940's to the 1970's ... started with simple electrical circuits\n",
    "- The 1980's to the present ... adding in bidirectionality and multiple layers"
   ]
  },
  {
   "cell_type": "markdown",
   "metadata": {
    "slideshow": {
     "slide_type": "notes"
    }
   },
   "source": [
    "## Applications\n",
    "---\n",
    "\n",
    "- Character and image recognition\n",
    "- Image compression\n",
    "- Stock market predictions\n",
    "- Loan approvals\n",
    "- Chess-playing machine - Deep Blue\n",
    "- Natural language processing - IBM Watson, etc.\n",
    "- Speech recognition … Siri, call centers, etc.\n",
    "- So many more ... "
   ]
  },
  {
   "cell_type": "markdown",
   "metadata": {
    "slideshow": {
     "slide_type": "notes"
    }
   },
   "source": [
    "## 3Blue1Brown Videos\n",
    "---\n",
    "\n",
    "Here are some great videos on Neural Network in the context of handwritten digit recognition.\n",
    "\n",
    "** Takes less than an hour to watch all three.\n",
    "\n",
    "But what *is* a Neural Network? | Chapter 1, deep learning\n",
    "https://www.youtube.com/watch?v=aircAruvnKk\n",
    "\n",
    "Gradient descent, how neural networks learn | Chapter 2, deep learning\n",
    "https://www.youtube.com/watch?v=IHZwWFHWa-w\n",
    "\n",
    "What is backpropagation really doing? | Chapter 3, deep learning\n",
    "https://www.youtube.com/watch?v=Ilg3gGewQ5U"
   ]
  },
  {
   "cell_type": "markdown",
   "metadata": {
    "slideshow": {
     "slide_type": "notes"
    }
   },
   "source": [
    "## Common Activation Functions\n",
    "---\n",
    "\n",
    "- Linear\n",
    "- Tanh Function - takes a real-valued input and squashes it to the range [-1, 1]\n",
    "- Logistic (Sigmoid) - takes a real-valued input and squashes it to range between 0 and 1\n",
    "- Rectified linear unit (ReLu) - It takes a real-valued input and thresholds it at zero (replaces negative values with zero)"
   ]
  },
  {
   "cell_type": "markdown",
   "metadata": {
    "slideshow": {
     "slide_type": "notes"
    }
   },
   "source": [
    "## Backpropagation\n",
    "---\n",
    "\n",
    "- Backward propagation of errors\n",
    "- Used in supervised learning of artificial neural networks\n",
    "- Uses the gradient descent to minimize a cost function"
   ]
  },
  {
   "cell_type": "markdown",
   "metadata": {
    "slideshow": {
     "slide_type": "notes"
    }
   },
   "source": [
    "## Types of Neural Networks\n",
    "---\n",
    "\n",
    "- Multilayer perceptron (MLP)\n",
    "- Convolutional neural network (CNN)\n",
    "- Recursive neural network (RNN)\n",
    "- Recurrent neural network (RNN)\n",
    "- Long short-term memory (LSTM)\n",
    "- Sequence-to-sequence models\n",
    "- Shallow neural networks vs. deep\n",
    "- etc.\n",
    "\n",
    "\n",
    "Cheat Sheet Sample: https://cdn20.patchcdn.com/users/22926894/20170717/020020/styles/raw/public/processed_images/1500314420-1500314420-8978.jpg "
   ]
  }
 ],
 "metadata": {
  "anaconda-cloud": {},
  "celltoolbar": "Slideshow",
  "kernelspec": {
   "display_name": "Python 3",
   "language": "python",
   "name": "python3"
  },
  "language_info": {
   "codemirror_mode": {
    "name": "ipython",
    "version": 3
   },
   "file_extension": ".py",
   "mimetype": "text/x-python",
   "name": "python",
   "nbconvert_exporter": "python",
   "pygments_lexer": "ipython3",
   "version": "3.6.5"
  },
  "livereveal": {
   "height": 768,
   "start_slideshow_at": "selected",
   "theme": "mines",
   "transition": "slide",
   "width": 1024
  }
 },
 "nbformat": 4,
 "nbformat_minor": 2
}
