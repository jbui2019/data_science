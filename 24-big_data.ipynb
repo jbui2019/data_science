{
 "cells": [
  {
   "cell_type": "markdown",
   "metadata": {
    "collapsed": true,
    "slideshow": {
     "slide_type": "slide"
    }
   },
   "source": [
    "##### CSCI 303\n",
    "# Introduction to Data Science\n",
    "<p/>\n",
    "### Big Data"
   ]
  },
  {
   "cell_type": "markdown",
   "metadata": {
    "slideshow": {
     "slide_type": "slide"
    }
   },
   "source": [
    "## This Lecture\n",
    "---\n",
    "\n",
    "- rough idea of **Big Data** tools, applications, etc.\n",
    "- not very hands-on"
   ]
  },
  {
   "cell_type": "markdown",
   "metadata": {
    "slideshow": {
     "slide_type": "slide"
    }
   },
   "source": [
    "## What is Big Data?\n",
    "\n",
    "- \"An important asset!\" -- management\n",
    "- \"A buzzword!\" -- techies\n",
    "- \"Large, complex datasets that require special data processing software.\" -- me, rephrasing Wikipedia"
   ]
  },
  {
   "cell_type": "markdown",
   "metadata": {
    "collapsed": true,
    "slideshow": {
     "slide_type": "subslide"
    }
   },
   "source": [
    "### 3 V's of Big Data\n",
    "\n",
    "1. **Volume**: Lots of data\n",
    "2. **Velocity**: Quickly updating\n",
    "3. **Variety**: Many formats"
   ]
  },
  {
   "cell_type": "markdown",
   "metadata": {
    "slideshow": {
     "slide_type": "subslide"
    }
   },
   "source": [
    "### ![4 V's of Big Data](http://www.ibmbigdatahub.com/sites/default/files/infographic_file/4-Vs-of-big-data.jpg)"
   ]
  },
  {
   "cell_type": "markdown",
   "metadata": {
    "slideshow": {
     "slide_type": "subslide"
    }
   },
   "source": [
    "### Not so fast...\n",
    "\n",
    "- [10 V's of Big Data](https://upside.tdwi.org/articles/2017/02/08/10-vs-of-big-data.aspx)"
   ]
  },
  {
   "cell_type": "markdown",
   "metadata": {
    "slideshow": {
     "slide_type": "slide"
    }
   },
   "source": [
    "## Why care about Big Data?"
   ]
  },
  {
   "cell_type": "markdown",
   "metadata": {
    "slideshow": {
     "slide_type": "subslide"
    }
   },
   "source": [
    "![gartner2013](http://na2.www.gartner.com/imagesrv/newsroom/images/hype-cycle-pr.png;wada20fd4bd7891509)"
   ]
  },
  {
   "cell_type": "markdown",
   "metadata": {
    "slideshow": {
     "slide_type": "subslide"
    }
   },
   "source": [
    "![gartner2018](https://www.smartinsights.com/wp-content/uploads/2018/08/Hype-Cycle-for-Emerging-Tech-2018.png)"
   ]
  },
  {
   "cell_type": "markdown",
   "metadata": {
    "slideshow": {
     "slide_type": "subslide"
    }
   },
   "source": [
    "### Applications\n",
    "\n",
    "- Science\n",
    "    - CERN's Large Hadron Collider: ~25 petabytes per year\n",
    "- Optimization\n",
    "    - Traffic flows\n",
    "    - Health (e.g. Jawbone: ~60 years of sleep data per night)\n",
    "- Distributed systems\n",
    "    - Bitcoin"
   ]
  },
  {
   "cell_type": "markdown",
   "metadata": {
    "slideshow": {
     "slide_type": "subslide"
    }
   },
   "source": [
    "### Market research\n",
    "- [Target](https://www.forbes.com/sites/kashmirhill/2012/02/16/how-target-figured-out-a-teen-girl-was-pregnant-before-her-father-did/#455b3fb96668)\n",
    "    - Predictions based on buying patterns\n",
    "- [Cambridge Analytica, Ted Cruz](https://medium.com/join-scout/the-rise-of-the-weaponized-ai-propaganda-machine-86dac61668b)\n",
    "    - Predictions based on Facebook 'likes'"
   ]
  },
  {
   "cell_type": "markdown",
   "metadata": {
    "slideshow": {
     "slide_type": "slide"
    }
   },
   "source": [
    "### How to manage Big Data?"
   ]
  },
  {
   "cell_type": "markdown",
   "metadata": {
    "slideshow": {
     "slide_type": "subslide"
    }
   },
   "source": [
    "### Hadoop\n",
    "\n",
    "- **Hadoop Distributed File System (HDFS)**\n",
    "    - Storing data\n",
    "    - Replicate data across multiple nodes\n",
    "    - Parallel computation across nodes\n",
    "\n",
    "- **MapReduce**\n",
    "    - Manipulating data\n",
    "    - `mapper`: stateless function, manipulates data\n",
    "    - `reducer`: aggregates `mapper`'s results\n",
    "    - similar to *split-apply-combine* in `pandas`\n",
    "\n",
    "- **YARN**\n",
    "    - Managing data/scheduling computation"
   ]
  },
  {
   "cell_type": "markdown",
   "metadata": {
    "slideshow": {
     "slide_type": "subslide"
    }
   },
   "source": [
    "### Hadoop Interfaces\n",
    "\n",
    "- **Apache Ambari**\n",
    "    - Cluster management\n",
    "- **Apache's Hive**\n",
    "    - Data querying, analysis"
   ]
  },
  {
   "cell_type": "markdown",
   "metadata": {
    "slideshow": {
     "slide_type": "subslide"
    }
   },
   "source": [
    "### Other Big Data Tools\n",
    "\n",
    "- **Apache Spark**\n",
    "    - Improves on Hadoop's MapReduce\n",
    "- **Apache Storm**\n",
    "    - Stream processing\n",
    "- **MongoDB**\n",
    "    - NoSQL"
   ]
  },
  {
   "cell_type": "markdown",
   "metadata": {
    "slideshow": {
     "slide_type": "slide"
    }
   },
   "source": [
    "## Conclusion\n",
    "\n",
    "- 'Big data' is *poorly defined*\n",
    "    - ...but you'll likely know when you need it\n",
    "- Big data is *scary*\n",
    "    - [Weaponize AI Propaganda Machine](https://www.youtube.com/watch?v=n8Dd5aVXLCc)\n",
    "- Big data is *fun*!\n",
    "    - Aggregation, predictions, ..."
   ]
  }
 ],
 "metadata": {
  "celltoolbar": "Slideshow",
  "kernelspec": {
   "display_name": "Python 3",
   "language": "python",
   "name": "python3"
  },
  "language_info": {
   "codemirror_mode": {
    "name": "ipython",
    "version": 3
   },
   "file_extension": ".py",
   "mimetype": "text/x-python",
   "name": "python",
   "nbconvert_exporter": "python",
   "pygments_lexer": "ipython3",
   "version": "3.6.5"
  },
  "livereveal": {
   "height": 768,
   "start_slideshow_at": "selected",
   "theme": "mines",
   "transition": "slide",
   "width": 1024
  }
 },
 "nbformat": 4,
 "nbformat_minor": 2
}
