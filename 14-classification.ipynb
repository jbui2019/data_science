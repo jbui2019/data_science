{
 "cells": [
  {
   "cell_type": "markdown",
   "metadata": {
    "collapsed": true,
    "slideshow": {
     "slide_type": "slide"
    }
   },
   "source": [
    "##### CSCI 303\n",
    "# Introduction to Data Science\n",
    "<p/>\n",
    "### 14 - Classification\n",
    "\n",
    "![knn classification](knn_class.png) "
   ]
  },
  {
   "cell_type": "markdown",
   "metadata": {
    "slideshow": {
     "slide_type": "slide"
    }
   },
   "source": [
    "## This Lecture\n",
    "---\n",
    "- Classification concepts\n",
    "- *k*-Nearest Neighbor Classification"
   ]
  },
  {
   "cell_type": "markdown",
   "metadata": {
    "slideshow": {
     "slide_type": "slide"
    }
   },
   "source": [
    "## Setup\n",
    "---"
   ]
  },
  {
   "cell_type": "code",
   "execution_count": 1,
   "metadata": {},
   "outputs": [],
   "source": [
    "import numpy as np\n",
    "import pandas as pd\n",
    "import matplotlib.pyplot as plt\n",
    "import sklearn as sk\n",
    "\n",
    "from scipy.stats import norm\n",
    "from pandas import Series, DataFrame\n",
    "from sklearn.model_selection import train_test_split\n",
    "from matplotlib.colors import ListedColormap\n",
    "\n",
    "plt.style.use('ggplot')\n",
    "\n",
    "%matplotlib inline"
   ]
  },
  {
   "cell_type": "markdown",
   "metadata": {
    "slideshow": {
     "slide_type": "slide"
    }
   },
   "source": [
    "## Recall: Machine (or Statistical) Learning\n",
    "---\n",
    "- Learning structure and relationships in data\n",
    "- Supervised learning\n",
    "  - Goal is predicting outputs based on inputs\n",
    "  - Learn from labeled exemplar data\n",
    "  - E.g., regression, classification\n",
    "- Unsupervised learning\n",
    "  - Goal is reveal hidden structure in the data\n",
    "  - Inputs but no labeled outputs\n",
    "  - E.g., clustering"
   ]
  },
  {
   "cell_type": "markdown",
   "metadata": {
    "slideshow": {
     "slide_type": "slide"
    }
   },
   "source": [
    "## Regression\n",
    "---\n",
    "...we've seen.  We'll return to regression in a later lecture to talk about other techniques.\n"
   ]
  },
  {
   "cell_type": "markdown",
   "metadata": {
    "slideshow": {
     "slide_type": "slide"
    }
   },
   "source": [
    "## Classification\n",
    "---\n",
    "In classification, we try to predict a *class label* assigning points to groups.\n",
    "\n",
    "Our classification training data has the same kinds of inputs as in regression, but the *target* variable is discrete, not continuous.\n",
    "\n",
    "E.g., the training data might include features about a borrower's financial history, credit score, owning/renting history, etc.  The target might be an indicator on whether or not the borrower ultimately defaulted on their loan.\n",
    "\n",
    "The learning task is to find a *classifier* function which will let us predict future defaults given the same information about a potential borrower.\n"
   ]
  },
  {
   "cell_type": "markdown",
   "metadata": {
    "slideshow": {
     "slide_type": "slide"
    }
   },
   "source": [
    "## Example Problem\n",
    "---\n",
    "As with regression, we'll start with an artificially generated problem.  Inputs will be points in a 2-D space, and targets will be classes simply labeled as 'a' and 'b'."
   ]
  },
  {
   "cell_type": "code",
   "execution_count": 2,
   "metadata": {
    "slideshow": {
     "slide_type": "subslide"
    }
   },
   "outputs": [],
   "source": [
    "# ensure repeatability of this notebook \n",
    "# (comment out for new results each run)\n",
    "np.random.seed(0)\n",
    "\n",
    "def f(X):\n",
    "    return 3 + 0.5 * X - X**2 + 0.15 * X**3\n",
    "\n",
    "# convenience function for generating samples\n",
    "def sample(n, fn, limits, sigma):\n",
    "    width = limits[1] - limits[0]\n",
    "    height = limits[3] - limits[2]\n",
    "    x = np.random.random(n) * width + limits[0]\n",
    "    y = np.random.random(n) * height + limits[2]\n",
    "    s = y > fn(x)\n",
    "    p = norm.cdf(np.abs(y - fn(x)), scale = sigma)\n",
    "    r = np.random.random(n)\n",
    "    \n",
    "    def assign(sign, prob, rnum):\n",
    "        if sign:\n",
    "            if rnum > prob:\n",
    "                return 'b'\n",
    "            else:\n",
    "                return 'a'\n",
    "        else:\n",
    "            if rnum > prob:\n",
    "                return 'a'\n",
    "            else:\n",
    "                return 'b'\n",
    "        \n",
    "    c = [assign(s[i], p[i], r[i]) for i in range(n)]\n",
    "    return DataFrame({'x' : x, 'y' : y, 'class' : c})\n",
    "    "
   ]
  },
  {
   "cell_type": "code",
   "execution_count": 3,
   "metadata": {
    "slideshow": {
     "slide_type": "subslide"
    }
   },
   "outputs": [
    {
     "data": {
      "image/png": "[encoded data removed]",
      "text/plain": [
       "<matplotlib.figure.Figure at 0x7f41179c8898>"
      ]
     },
     "metadata": {},
     "output_type": "display_data"
    }
   ],
   "source": [
    "data = sample(100, f, [-5, 5, -25, 25], 5)\n",
    "train, test = train_test_split(data, test_size = 0.5)\n",
    "traina = train[train['class']=='a']\n",
    "trainb = train[train['class']=='b']\n",
    "plt.plot(traina['x'], traina['y'],'bs', label='class a')\n",
    "plt.plot(trainb['x'], trainb['y'],'r^', label='class b')\n",
    "plt.legend()\n",
    "plt.title('Training Data')\n",
    "plt.show()"
   ]
  },
  {
   "cell_type": "markdown",
   "metadata": {
    "collapsed": true,
    "slideshow": {
     "slide_type": "slide"
    }
   },
   "source": [
    "## *k*-Nearest Neighbor Classification\n",
    "---\n",
    "Suppose we get a new point we haven't seen before, class unknown.\n",
    "\n",
    "What class do we assign it to?\n",
    "\n",
    "One of the simplest techniques is *k-nearest neighbor* classification.\n",
    "\n",
    "Simply look at the *k* nearest points and take a majority vote on the class!"
   ]
  },
  {
   "cell_type": "markdown",
   "metadata": {
    "slideshow": {
     "slide_type": "subslide"
    }
   },
   "source": [
    "Let's try k-nearest neighbor on our example, using scikit-learn:"
   ]
  },
  {
   "cell_type": "code",
   "execution_count": 4,
   "metadata": {},
   "outputs": [
    {
     "data": {
      "text/plain": [
       "KNeighborsClassifier(algorithm='auto', leaf_size=30, metric='minkowski',\n",
       "           metric_params=None, n_jobs=1, n_neighbors=5, p=2,\n",
       "           weights='uniform')"
      ]
     },
     "execution_count": 4,
     "metadata": {},
     "output_type": "execute_result"
    }
   ],
   "source": [
    "from sklearn import neighbors\n",
    "\n",
    "k = 5\n",
    "\n",
    "model = neighbors.KNeighborsClassifier(k)\n",
    "model.fit(train[['x','y']], train['class'])"
   ]
  },
  {
   "cell_type": "markdown",
   "metadata": {
    "slideshow": {
     "slide_type": "subslide"
    }
   },
   "source": [
    "Plotting the results is a bit tricky.  Here are a few approaches.\n",
    "\n",
    "First, we can apply the trained model to the test data, and plot the resulting points.  Correctly classified points will be shown as solid, misclassified points as bordered.  Colors and shapes will match the prediction (not the ground truth)."
   ]
  },
  {
   "cell_type": "code",
   "execution_count": 5,
   "metadata": {},
   "outputs": [],
   "source": [
    "def plot_predicted_1(model, test):\n",
    "    predicted = model.predict(test[['x','y']])\n",
    "    correct = test[test['class'] == predicted]\n",
    "    correcta = correct[correct['class'] == 'a']\n",
    "    correctb = correct[correct['class'] == 'b']\n",
    "    incorrect = test[test['class'] != predicted]\n",
    "    incorrecta = incorrect[incorrect['class'] == 'b']\n",
    "    incorrectb = incorrect[incorrect['class'] == 'a']\n",
    "    \n",
    "    plt.plot(correcta['x'], correcta['y'], 'bs', label='a')\n",
    "    plt.plot(correctb['x'], correctb['y'], 'r^', label='b')\n",
    "    plt.plot(incorrecta['x'], incorrecta['y'], 'bs', markerfacecolor='w', label='a (misclassified)')\n",
    "    plt.plot(incorrectb['x'], incorrectb['y'], 'r^', markerfacecolor='w', label='b (misclassified)')\n",
    "    plt.legend(loc='upper left', ncol=2, framealpha=1)"
   ]
  },
  {
   "cell_type": "code",
   "execution_count": 6,
   "metadata": {
    "slideshow": {
     "slide_type": "subslide"
    }
   },
   "outputs": [
    {
     "data": {
      "image/png": "[encoded data removed]",
      "text/plain": [
       "<matplotlib.figure.Figure at 0x7f41158a4710>"
      ]
     },
     "metadata": {},
     "output_type": "display_data"
    }
   ],
   "source": [
    "plot_predicted_1(model, test)"
   ]
  },
  {
   "cell_type": "markdown",
   "metadata": {
    "slideshow": {
     "slide_type": "subslide"
    }
   },
   "source": [
    "One problem with this plot is that it doesn't show us the original training data, so it can be difficult to see where the misclassifications came from.\n",
    "\n",
    "Another plot, harder to generate, shows us the \"decision boundary\" - the dividing line between classes."
   ]
  },
  {
   "cell_type": "code",
   "execution_count": 26,
   "metadata": {
    "slideshow": {
     "slide_type": "subslide"
    }
   },
   "outputs": [],
   "source": [
    "def plot_predicted_2(model, test):\n",
    "    #setup colormap using hex values for blue and red\n",
    "    cmap = ListedColormap(['#8888FF','#FF8888'])\n",
    "    \n",
    "    #set up for the axis ranges we want x values and y values\n",
    "    xmin, xmax, ymin, ymax = -5, 5, -25, 25\n",
    "    \n",
    "    #set up the grid for the contour ... create a rectangular grid out of an array of our x and y values. \n",
    "    #To create a rectangular grid, we need every combination of the x and y points using the grid_size.\n",
    "    grid_size = 0.1\n",
    "    xx, yy = np.meshgrid(np.arange(xmin, xmax, grid_size), \n",
    "                         np.arange(ymin, ymax, grid_size))\n",
    "    \n",
    "    #now find y_hat using the prediction function, ravel returns a flattened 1D array of the data in xx and yy\n",
    "    pp = model.predict(np.c_[xx.ravel(), yy.ravel()])\n",
    "    \n",
    "    #filling an arry for the plot function, this comprehension goes through the elements returned from the prediction\n",
    "    #filled with predicted a or be class labels; the first part is replacing all the a's with a 0 and the b's with 1\n",
    "    zz = np.array([{'a':0,'b':1}[ab] for ab in pp]) \n",
    "\n",
    "    #the reshape puts the zz array in the same shape as the xx aray, again so we can plot like shaped objects\n",
    "    zz = zz.reshape(xx.shape)\n",
    "    \n",
    "    #create a new figture, and plot it using the x, y - zz is the class labesl a=0, b=1 and the cmap is the blue or red\n",
    "    plt.figure()\n",
    "    plt.pcolormesh(xx, yy, zz, cmap = cmap)\n",
    "    \n",
    "    #this calls our other function as an overlay with the actual data points - comment it out and run it to see\n",
    "    plot_predicted_1(model, test)\n"
   ]
  },
  {
   "cell_type": "code",
   "execution_count": 27,
   "metadata": {
    "slideshow": {
     "slide_type": "subslide"
    }
   },
   "outputs": [
    {
     "data": {
      "image/png": "[encoded data removed]",
      "text/plain": [
       "<matplotlib.figure.Figure at 0x7f4114b59400>"
      ]
     },
     "metadata": {},
     "output_type": "display_data"
    }
   ],
   "source": [
    "plot_predicted_2(model, test)\n",
    "plt.show()"
   ]
  },
  {
   "cell_type": "markdown",
   "metadata": {
    "slideshow": {
     "slide_type": "subslide"
    }
   },
   "source": [
    "Using the functions we wrote above, we can also plot all of the data, or just the training data:"
   ]
  },
  {
   "cell_type": "code",
   "execution_count": 9,
   "metadata": {},
   "outputs": [
    {
     "data": {
      "image/png": "[encoded data removed]",
      "text/plain": [
       "<matplotlib.figure.Figure at 0x7f4114ea8518>"
      ]
     },
     "metadata": {},
     "output_type": "display_data"
    }
   ],
   "source": [
    "plot_predicted_2(model, data)\n",
    "plt.show()"
   ]
  },
  {
   "cell_type": "markdown",
   "metadata": {
    "slideshow": {
     "slide_type": "slide"
    }
   },
   "source": [
    "## Model Complexity with *k*-Nearest Neighbors\n",
    "---\n",
    "Above we used k = 5 to train our model.  As we saw, this gave a fairly smooth decision boundary.\n",
    "\n",
    "What happens if we decrease or increase *k*?"
   ]
  },
  {
   "cell_type": "code",
   "execution_count": 10,
   "metadata": {
    "slideshow": {
     "slide_type": "subslide"
    }
   },
   "outputs": [
    {
     "data": {
      "image/png": "[encoded data removed]",
      "text/plain": [
       "<matplotlib.figure.Figure at 0x7f4114e327f0>"
      ]
     },
     "metadata": {},
     "output_type": "display_data"
    }
   ],
   "source": [
    "k = 1\n",
    "model = neighbors.KNeighborsClassifier(k)\n",
    "model.fit(train[['x','y']], train['class'])\n",
    "plot_predicted_2(model, test)\n",
    "plt.show()"
   ]
  },
  {
   "cell_type": "code",
   "execution_count": 11,
   "metadata": {
    "slideshow": {
     "slide_type": "subslide"
    }
   },
   "outputs": [
    {
     "data": {
      "image/png": "[encoded data removed]",
      "text/plain": [
       "<matplotlib.figure.Figure at 0x7f4114d8e710>"
      ]
     },
     "metadata": {},
     "output_type": "display_data"
    }
   ],
   "source": [
    "k = 3\n",
    "model = neighbors.KNeighborsClassifier(k)\n",
    "model.fit(train[['x','y']], train['class'])\n",
    "plot_predicted_2(model, data)\n",
    "plt.show()"
   ]
  },
  {
   "cell_type": "code",
   "execution_count": 12,
   "metadata": {
    "slideshow": {
     "slide_type": "subslide"
    }
   },
   "outputs": [
    {
     "data": {
      "image/png": "[encoded data removed]",
      "text/plain": [
       "<matplotlib.figure.Figure at 0x7f4114d2eeb8>"
      ]
     },
     "metadata": {},
     "output_type": "display_data"
    }
   ],
   "source": [
    "k = 7\n",
    "model = neighbors.KNeighborsClassifier(k)\n",
    "model.fit(train[['x','y']], train['class'])\n",
    "plot_predicted_2(model, data)\n",
    "plt.show()"
   ]
  },
  {
   "cell_type": "code",
   "execution_count": 13,
   "metadata": {
    "slideshow": {
     "slide_type": "subslide"
    }
   },
   "outputs": [
    {
     "data": {
      "image/png": "[encoded data removed]",
      "text/plain": [
       "<matplotlib.figure.Figure at 0x7f4114cb4128>"
      ]
     },
     "metadata": {},
     "output_type": "display_data"
    }
   ],
   "source": [
    "k = 9\n",
    "model = neighbors.KNeighborsClassifier(k)\n",
    "model.fit(train[['x','y']], train['class'])\n",
    "plot_predicted_2(model, train)\n",
    "plt.show()"
   ]
  },
  {
   "cell_type": "code",
   "execution_count": 14,
   "metadata": {
    "slideshow": {
     "slide_type": "subslide"
    }
   },
   "outputs": [
    {
     "data": {
      "image/png": "[encoded data removed]",
      "text/plain": [
       "<matplotlib.figure.Figure at 0x7f4114c113c8>"
      ]
     },
     "metadata": {},
     "output_type": "display_data"
    }
   ],
   "source": [
    "k = 15\n",
    "model = neighbors.KNeighborsClassifier(k)\n",
    "model.fit(train[['x','y']], train['class'])\n",
    "plot_predicted_2(model, data)\n",
    "plt.show()"
   ]
  },
  {
   "cell_type": "code",
   "execution_count": 15,
   "metadata": {
    "slideshow": {
     "slide_type": "subslide"
    }
   },
   "outputs": [
    {
     "data": {
      "image/png": "[encoded data removed]",
      "text/plain": [
       "<matplotlib.figure.Figure at 0x7f4114b92898>"
      ]
     },
     "metadata": {},
     "output_type": "display_data"
    }
   ],
   "source": [
    "k = 21\n",
    "model = neighbors.KNeighborsClassifier(k)\n",
    "model.fit(train[['x','y']], train['class'])\n",
    "plot_predicted_2(model, data)\n",
    "plt.show()"
   ]
  },
  {
   "cell_type": "markdown",
   "metadata": {
    "slideshow": {
     "slide_type": "slide"
    }
   },
   "source": [
    "## Overfitting/Underfitting\n",
    "---\n",
    "Just like with regression, classification is sensitive to the complexity of your model.\n",
    "\n",
    "In *k*-nearest neighbor classification, you overfit by using too few neighbors, and underfit by using too many neighbors.\n",
    "\n",
    "The scikit-learn nearest neighbor model can generate a score based on the accuracy of our prediction.  Let's see our training and test curves:"
   ]
  },
  {
   "cell_type": "code",
   "execution_count": 16,
   "metadata": {
    "slideshow": {
     "slide_type": "subslide"
    }
   },
   "outputs": [
    {
     "data": {
      "image/png": "[encoded data removed]",
      "text/plain": [
       "<matplotlib.figure.Figure at 0x7f4114ea2898>"
      ]
     },
     "metadata": {},
     "output_type": "display_data"
    }
   ],
   "source": [
    "kvals = range(1,25,2)\n",
    "train_score = []\n",
    "test_score = []\n",
    "\n",
    "for k in kvals:\n",
    "    model = neighbors.KNeighborsClassifier(k)\n",
    "    model.fit(train[['x','y']], train['class'])\n",
    "    train_score.append(model.score(train[['x','y']], train['class']))\n",
    "    test_score.append(model.score(test[['x','y']], test['class']))\n",
    "    \n",
    "plt.plot(kvals, train_score, 'r-s', label='Train')\n",
    "plt.plot(kvals, test_score, 'b-o', label='Test')\n",
    "plt.legend()\n",
    "plt.show()"
   ]
  },
  {
   "cell_type": "code",
   "execution_count": 17,
   "metadata": {},
   "outputs": [
    {
     "name": "stdout",
     "output_type": "stream",
     "text": [
      "[[28  3]\n",
      " [ 5 14]]\n"
     ]
    },
    {
     "data": {
      "text/plain": [
       "0.83999999999999997"
      ]
     },
     "execution_count": 17,
     "metadata": {},
     "output_type": "execute_result"
    }
   ],
   "source": [
    "print(sk.metrics.confusion_matrix(test['class'], model.predict(test[['x','y']])))\n",
    "model.score(test[['x','y']], test['class'])\n"
   ]
  },
  {
   "cell_type": "markdown",
   "metadata": {
    "slideshow": {
     "slide_type": "slide"
    }
   },
   "source": [
    "## Next Time\n",
    "---\n",
    "More classification goodness!"
   ]
  }
 ],
 "metadata": {
  "celltoolbar": "Slideshow",
  "kernelspec": {
   "display_name": "Python 3",
   "language": "python",
   "name": "python3"
  },
  "language_info": {
   "codemirror_mode": {
    "name": "ipython",
    "version": 3
   },
   "file_extension": ".py",
   "mimetype": "text/x-python",
   "name": "python",
   "nbconvert_exporter": "python",
   "pygments_lexer": "ipython3",
   "version": "3.5.2"
  },
  "livereveal": {
   "height": 768,
   "start_slideshow_at": "selected",
   "theme": "mines",
   "transition": "slide",
   "width": 1024
  }
 },
 "nbformat": 4,
 "nbformat_minor": 2
}
